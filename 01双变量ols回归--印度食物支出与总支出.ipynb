{
 "cells": [
  {
   "cell_type": "markdown",
   "metadata": {},
   "source": [
    "### 印度食物支出与总支出的双变量回归分析"
   ]
  },
  {
   "cell_type": "markdown",
   "metadata": {
    "collapsed": true
   },
   "source": [
    "计量经济学基础第五版 P153\n",
    "用总支出解释食物支出"
   ]
  },
  {
   "cell_type": "code",
   "execution_count": 2,
   "metadata": {
    "collapsed": true
   },
   "outputs": [],
   "source": [
    "import pandas as pd\n",
    "import numpy as np \n",
    "import statsmodels.formula.api as smf\n",
    "import matplotlib.pyplot as plt\n",
    "%matplotlib inline\n",
    "plt.style.use('ggplot')"
   ]
  },
  {
   "cell_type": "code",
   "execution_count": 3,
   "metadata": {
    "collapsed": true
   },
   "outputs": [],
   "source": [
    "df=pd.read_excel('data/印度食物支出与总支出.xls')"
   ]
  },
  {
   "cell_type": "code",
   "execution_count": 4,
   "metadata": {},
   "outputs": [
    {
     "name": "stdout",
     "output_type": "stream",
     "text": [
      "<class 'pandas.core.frame.DataFrame'>\n",
      "RangeIndex: 55 entries, 0 to 54\n",
      "Data columns (total 2 columns):\n",
      "FOODEXP     55 non-null int64\n",
      "TOTALEXP    55 non-null int64\n",
      "dtypes: int64(2)\n",
      "memory usage: 960.0 bytes\n"
     ]
    }
   ],
   "source": [
    "df.info()"
   ]
  },
  {
   "cell_type": "code",
   "execution_count": 5,
   "metadata": {},
   "outputs": [
    {
     "data": {
      "text/html": [
       "<div>\n",
       "<style>\n",
       "    .dataframe thead tr:only-child th {\n",
       "        text-align: right;\n",
       "    }\n",
       "\n",
       "    .dataframe thead th {\n",
       "        text-align: left;\n",
       "    }\n",
       "\n",
       "    .dataframe tbody tr th {\n",
       "        vertical-align: top;\n",
       "    }\n",
       "</style>\n",
       "<table border=\"1\" class=\"dataframe\">\n",
       "  <thead>\n",
       "    <tr style=\"text-align: right;\">\n",
       "      <th></th>\n",
       "      <th>FOODEXP</th>\n",
       "      <th>TOTALEXP</th>\n",
       "    </tr>\n",
       "  </thead>\n",
       "  <tbody>\n",
       "    <tr>\n",
       "      <th>0</th>\n",
       "      <td>217</td>\n",
       "      <td>382</td>\n",
       "    </tr>\n",
       "    <tr>\n",
       "      <th>1</th>\n",
       "      <td>196</td>\n",
       "      <td>388</td>\n",
       "    </tr>\n",
       "    <tr>\n",
       "      <th>2</th>\n",
       "      <td>303</td>\n",
       "      <td>391</td>\n",
       "    </tr>\n",
       "    <tr>\n",
       "      <th>3</th>\n",
       "      <td>270</td>\n",
       "      <td>415</td>\n",
       "    </tr>\n",
       "    <tr>\n",
       "      <th>4</th>\n",
       "      <td>325</td>\n",
       "      <td>456</td>\n",
       "    </tr>\n",
       "  </tbody>\n",
       "</table>\n",
       "</div>"
      ],
      "text/plain": [
       "   FOODEXP  TOTALEXP\n",
       "0      217       382\n",
       "1      196       388\n",
       "2      303       391\n",
       "3      270       415\n",
       "4      325       456"
      ]
     },
     "execution_count": 5,
     "metadata": {},
     "output_type": "execute_result"
    }
   ],
   "source": [
    "df.head()"
   ]
  },
  {
   "cell_type": "code",
   "execution_count": 6,
   "metadata": {},
   "outputs": [
    {
     "data": {
      "text/html": [
       "<div>\n",
       "<style>\n",
       "    .dataframe thead tr:only-child th {\n",
       "        text-align: right;\n",
       "    }\n",
       "\n",
       "    .dataframe thead th {\n",
       "        text-align: left;\n",
       "    }\n",
       "\n",
       "    .dataframe tbody tr th {\n",
       "        vertical-align: top;\n",
       "    }\n",
       "</style>\n",
       "<table border=\"1\" class=\"dataframe\">\n",
       "  <thead>\n",
       "    <tr style=\"text-align: right;\">\n",
       "      <th></th>\n",
       "      <th>FOODEXP</th>\n",
       "      <th>TOTALEXP</th>\n",
       "    </tr>\n",
       "  </thead>\n",
       "  <tbody>\n",
       "    <tr>\n",
       "      <th>count</th>\n",
       "      <td>55.000000</td>\n",
       "      <td>55.000000</td>\n",
       "    </tr>\n",
       "    <tr>\n",
       "      <th>mean</th>\n",
       "      <td>373.345455</td>\n",
       "      <td>639.036364</td>\n",
       "    </tr>\n",
       "    <tr>\n",
       "      <th>std</th>\n",
       "      <td>83.435097</td>\n",
       "      <td>116.159527</td>\n",
       "    </tr>\n",
       "    <tr>\n",
       "      <th>min</th>\n",
       "      <td>196.000000</td>\n",
       "      <td>382.000000</td>\n",
       "    </tr>\n",
       "    <tr>\n",
       "      <th>25%</th>\n",
       "      <td>323.500000</td>\n",
       "      <td>582.000000</td>\n",
       "    </tr>\n",
       "    <tr>\n",
       "      <th>50%</th>\n",
       "      <td>362.000000</td>\n",
       "      <td>650.000000</td>\n",
       "    </tr>\n",
       "    <tr>\n",
       "      <th>75%</th>\n",
       "      <td>417.500000</td>\n",
       "      <td>732.000000</td>\n",
       "    </tr>\n",
       "    <tr>\n",
       "      <th>max</th>\n",
       "      <td>610.000000</td>\n",
       "      <td>801.000000</td>\n",
       "    </tr>\n",
       "  </tbody>\n",
       "</table>\n",
       "</div>"
      ],
      "text/plain": [
       "          FOODEXP    TOTALEXP\n",
       "count   55.000000   55.000000\n",
       "mean   373.345455  639.036364\n",
       "std     83.435097  116.159527\n",
       "min    196.000000  382.000000\n",
       "25%    323.500000  582.000000\n",
       "50%    362.000000  650.000000\n",
       "75%    417.500000  732.000000\n",
       "max    610.000000  801.000000"
      ]
     },
     "execution_count": 6,
     "metadata": {},
     "output_type": "execute_result"
    }
   ],
   "source": [
    "df.describe()"
   ]
  },
  {
   "cell_type": "code",
   "execution_count": 7,
   "metadata": {},
   "outputs": [
    {
     "data": {
      "text/plain": [
       "<matplotlib.axes._subplots.AxesSubplot at 0x110d911d0>"
      ]
     },
     "execution_count": 7,
     "metadata": {},
     "output_type": "execute_result"
    },
    {
     "data": {
      "image/png": "[encoded data removed]",
      "text/plain": [
       "<matplotlib.figure.Figure at 0x110d57cf8>"
      ]
     },
     "metadata": {},
     "output_type": "display_data"
    }
   ],
   "source": [
    "#ax=df.plot(kind='scatter',x='TOTALEXP',y='FOODEXP',c='TOTALEXP',cmap='hsv',s=100,alpha=0.75)\n",
    "df.plot(kind='scatter',x='TOTALEXP',y='FOODEXP',s=100,alpha=0.75)"
   ]
  },
  {
   "cell_type": "code",
   "execution_count": 8,
   "metadata": {
    "collapsed": true
   },
   "outputs": [],
   "source": [
    "results = smf.ols('FOODEXP ~ 1 +TOTALEXP', data=df).fit()"
   ]
  },
  {
   "cell_type": "code",
   "execution_count": 9,
   "metadata": {},
   "outputs": [
    {
     "name": "stdout",
     "output_type": "stream",
     "text": [
      "                            OLS Regression Results                            \n",
      "==============================================================================\n",
      "Dep. Variable:                FOODEXP   R-squared:                       0.370\n",
      "Model:                            OLS   Adj. R-squared:                  0.358\n",
      "Method:                 Least Squares   F-statistic:                     31.10\n",
      "Date:                Mon, 26 Mar 2018   Prob (F-statistic):           8.45e-07\n",
      "Time:                        14:22:21   Log-Likelihood:                -308.16\n",
      "No. Observations:                  55   AIC:                             620.3\n",
      "Df Residuals:                      53   BIC:                             624.3\n",
      "Df Model:                           1                                         \n",
      "Covariance Type:            nonrobust                                         \n",
      "==============================================================================\n",
      "                 coef    std err          t      P>|t|      [0.025      0.975]\n",
      "------------------------------------------------------------------------------\n",
      "Intercept     94.2088     50.856      1.852      0.070      -7.796     196.214\n",
      "TOTALEXP       0.4368      0.078      5.577      0.000       0.280       0.594\n",
      "==============================================================================\n",
      "Omnibus:                        0.763   Durbin-Watson:                   2.083\n",
      "Prob(Omnibus):                  0.683   Jarque-Bera (JB):                0.258\n",
      "Skew:                           0.120   Prob(JB):                        0.879\n",
      "Kurtosis:                       3.234   Cond. No.                     3.66e+03\n",
      "==============================================================================\n",
      "\n",
      "Warnings:\n",
      "[1] Standard Errors assume that the covariance matrix of the errors is correctly specified.\n",
      "[2] The condition number is large, 3.66e+03. This might indicate that there are\n",
      "strong multicollinearity or other numerical problems.\n"
     ]
    }
   ],
   "source": [
    "print(results.summary())"
   ]
  },
  {
   "cell_type": "markdown",
   "metadata": {},
   "source": [
    "回归方程\n",
    "FOODEXP=94.2088+0.4368*TOTALEXP"
   ]
  },
  {
   "cell_type": "markdown",
   "metadata": {},
   "source": [
    "TOTALEXP表示家庭总支出，回归系数为0.4368，存在着预期的正相关，即家庭总支出越多，食物支出越多。\n",
    "如果总支出增加1单位，食物支出平均增加0.4368个单位\n",
    "t=5.577，相应的p=0.000，在零假设下，出现这种样本的概率为0，因此拒绝TOTALEXP的系数为0的原假设，\n",
    "回归系数显著异于零，说明模型应该包含总支出变量。"
   ]
  },
  {
   "cell_type": "markdown",
   "metadata": {},
   "source": [
    "R-squared，就是r方，为0.370，食物支出的变异中，有37%的可以由总支出来解释。"
   ]
  },
  {
   "cell_type": "markdown",
   "metadata": {},
   "source": [
    "雅克-贝拉检验表明：JB统计量0.258，在正态性假定下，得到这样一个统计量的概率为88%。因此我们不拒绝残差项\n",
    "是正态分布的假设。"
   ]
  },
  {
   "cell_type": "code",
   "execution_count": 10,
   "metadata": {},
   "outputs": [
    {
     "name": "stdout",
     "output_type": "stream",
     "text": [
      "Parameters: Intercept    94.208777\n",
      "TOTALEXP      0.436809\n",
      "dtype: float64\n",
      "Standard errors:  Intercept    50.856346\n",
      "TOTALEXP      0.078323\n",
      "dtype: float64\n",
      "R2: 0.369823733627\n"
     ]
    }
   ],
   "source": [
    "print(\"Parameters:\",results.params)\n",
    "print('Standard errors: ', results.bse)\n",
    "print(\"R2:\",results.rsquared)"
   ]
  },
  {
   "cell_type": "code",
   "execution_count": 11,
   "metadata": {},
   "outputs": [
    {
     "name": "stdout",
     "output_type": "stream",
     "text": [
      "Predicted values:  [ 261.06972107  263.69057358  265.00099984  275.48440991  293.39356879\n",
      "  295.1408038   300.38250884  303.00336135  309.9923014   319.60209397\n",
      "  323.53337275  336.20082658  345.3738104   347.12104541  349.74189793\n",
      "  350.17870668  351.92594169  359.78849925  360.66211675  363.28296927\n",
      "  364.15658678  366.34063054  368.08786555  369.39829181  371.58233558\n",
      "  373.76637934  377.26084937  378.13446687  380.31851064  383.37617191\n",
      "  383.81298066  389.92830321  391.23872946  395.60681699  397.79086076\n",
      "  397.79086076  397.79086076  408.71107959  409.14788834  413.07916712\n",
      "  413.51597587  414.38959337  419.63129841  422.25215093  422.68895968\n",
      "  422.68895968  430.11470848  431.8619435   431.8619435   432.735561\n",
      "  437.10364853  438.41407479  439.2876923   441.47173606  444.09258858]\n"
     ]
    }
   ],
   "source": [
    "#results.predict() 给出每个样本值的预测值\n",
    "print('Predicted values: ', results.predict())"
   ]
  },
  {
   "cell_type": "code",
   "execution_count": 21,
   "metadata": {
    "collapsed": true
   },
   "outputs": [],
   "source": [
    "def getChineseFont():  \n",
    "    return FontProperties(fname='/System/Library/Fonts/PingFang.ttc') "
   ]
  },
  {
   "cell_type": "code",
   "execution_count": 23,
   "metadata": {},
   "outputs": [
    {
     "data": {
      "image/png": "[encoded data removed]",
      "text/plain": [
       "<matplotlib.figure.Figure at 0x114b4e860>"
      ]
     },
     "metadata": {},
     "output_type": "display_data"
    }
   ],
   "source": [
    "from matplotlib.font_manager import FontManager, FontProperties  \n",
    "x=df.TOTALEXP.values\n",
    "y=df.FOODEXP.values\n",
    "fig, ax = plt.subplots(figsize=(8,6))\n",
    "ax.plot(x, y, 'bo', label=\"data\") #蓝色圈圈\n",
    "ax.plot(x, results.predict(), 'r--', label=\"OLS\")\n",
    "ax.legend(loc='best') #loc='best' 最佳位置\n",
    "ax.set_title('回归方程:FOODEXP=94.2088+0.4368TOTALEXP',fontproperties=getChineseFont())\n",
    "ax.set_ylabel('食物支出:FOODEXP',fontproperties=getChineseFont())\n",
    "ax.set_xlabel('总支出:TOTALEXP',fontproperties=getChineseFont())\n",
    "plt.show()"
   ]
  },
  {
   "cell_type": "code",
   "execution_count": null,
   "metadata": {
    "collapsed": true
   },
   "outputs": [],
   "source": []
  }
 ],
 "metadata": {
  "kernelspec": {
   "display_name": "Python 3",
   "language": "python",
   "name": "python3"
  },
  "language_info": {
   "codemirror_mode": {
    "name": "ipython",
    "version": 3
   },
   "file_extension": ".py",
   "mimetype": "text/x-python",
   "name": "python",
   "nbconvert_exporter": "python",
   "pygments_lexer": "ipython3",
   "version": "3.6.1"
  }
 },
 "nbformat": 4,
 "nbformat_minor": 2
}
