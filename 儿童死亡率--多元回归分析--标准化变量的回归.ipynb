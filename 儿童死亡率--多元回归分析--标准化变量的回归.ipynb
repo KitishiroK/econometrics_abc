{
 "cells": [
  {
   "cell_type": "markdown",
   "metadata": {
    "collapsed": true
   },
   "source": [
    "### 儿童死亡率--多元回归分析"
   ]
  },
  {
   "cell_type": "markdown",
   "metadata": {},
   "source": [
    "数据解释：<br/>\n",
    "CM：每千人中不足五岁便死亡的人数<br/>\n",
    "PGNP:人均GDP<br/>\n",
    "FLR：妇女识字率<br/>\n",
    "计量经济学第五版P218<br/>"
   ]
  },
  {
   "cell_type": "code",
   "execution_count": 1,
   "metadata": {
    "collapsed": true
   },
   "outputs": [],
   "source": [
    "import numpy as np \n",
    "import pandas as pd\n",
    "import statsmodels.formula.api as smf\n",
    "%matplotlib inline"
   ]
  },
  {
   "cell_type": "code",
   "execution_count": 3,
   "metadata": {
    "collapsed": true
   },
   "outputs": [],
   "source": [
    "df=pd.read_excel('data/儿童死亡率.xls')"
   ]
  },
  {
   "cell_type": "code",
   "execution_count": 4,
   "metadata": {},
   "outputs": [
    {
     "name": "stdout",
     "output_type": "stream",
     "text": [
      "<class 'pandas.core.frame.DataFrame'>\n",
      "RangeIndex: 64 entries, 0 to 63\n",
      "Data columns (total 4 columns):\n",
      "CM      64 non-null int64\n",
      "FLR     64 non-null int64\n",
      "PGNP    64 non-null int64\n",
      "TFR     64 non-null float64\n",
      "dtypes: float64(1), int64(3)\n",
      "memory usage: 2.1 KB\n"
     ]
    }
   ],
   "source": [
    "df.info()"
   ]
  },
  {
   "cell_type": "code",
   "execution_count": 4,
   "metadata": {},
   "outputs": [
    {
     "data": {
      "text/html": [
       "<div>\n",
       "<style>\n",
       "    .dataframe thead tr:only-child th {\n",
       "        text-align: right;\n",
       "    }\n",
       "\n",
       "    .dataframe thead th {\n",
       "        text-align: left;\n",
       "    }\n",
       "\n",
       "    .dataframe tbody tr th {\n",
       "        vertical-align: top;\n",
       "    }\n",
       "</style>\n",
       "<table border=\"1\" class=\"dataframe\">\n",
       "  <thead>\n",
       "    <tr style=\"text-align: right;\">\n",
       "      <th></th>\n",
       "      <th>CM</th>\n",
       "      <th>FLR</th>\n",
       "      <th>PGNP</th>\n",
       "      <th>TFR</th>\n",
       "    </tr>\n",
       "  </thead>\n",
       "  <tbody>\n",
       "    <tr>\n",
       "      <th>count</th>\n",
       "      <td>64.000000</td>\n",
       "      <td>64.000000</td>\n",
       "      <td>64.000000</td>\n",
       "      <td>64.000000</td>\n",
       "    </tr>\n",
       "    <tr>\n",
       "      <th>mean</th>\n",
       "      <td>141.500000</td>\n",
       "      <td>51.187500</td>\n",
       "      <td>1401.250000</td>\n",
       "      <td>5.549687</td>\n",
       "    </tr>\n",
       "    <tr>\n",
       "      <th>std</th>\n",
       "      <td>75.978067</td>\n",
       "      <td>26.007859</td>\n",
       "      <td>2725.695775</td>\n",
       "      <td>1.508993</td>\n",
       "    </tr>\n",
       "    <tr>\n",
       "      <th>min</th>\n",
       "      <td>12.000000</td>\n",
       "      <td>9.000000</td>\n",
       "      <td>120.000000</td>\n",
       "      <td>1.690000</td>\n",
       "    </tr>\n",
       "    <tr>\n",
       "      <th>25%</th>\n",
       "      <td>82.000000</td>\n",
       "      <td>29.000000</td>\n",
       "      <td>300.000000</td>\n",
       "      <td>4.607500</td>\n",
       "    </tr>\n",
       "    <tr>\n",
       "      <th>50%</th>\n",
       "      <td>138.500000</td>\n",
       "      <td>48.000000</td>\n",
       "      <td>620.000000</td>\n",
       "      <td>6.040000</td>\n",
       "    </tr>\n",
       "    <tr>\n",
       "      <th>75%</th>\n",
       "      <td>192.500000</td>\n",
       "      <td>77.250000</td>\n",
       "      <td>1317.500000</td>\n",
       "      <td>6.615000</td>\n",
       "    </tr>\n",
       "    <tr>\n",
       "      <th>max</th>\n",
       "      <td>312.000000</td>\n",
       "      <td>95.000000</td>\n",
       "      <td>19830.000000</td>\n",
       "      <td>8.490000</td>\n",
       "    </tr>\n",
       "  </tbody>\n",
       "</table>\n",
       "</div>"
      ],
      "text/plain": [
       "               CM        FLR          PGNP        TFR\n",
       "count   64.000000  64.000000     64.000000  64.000000\n",
       "mean   141.500000  51.187500   1401.250000   5.549687\n",
       "std     75.978067  26.007859   2725.695775   1.508993\n",
       "min     12.000000   9.000000    120.000000   1.690000\n",
       "25%     82.000000  29.000000    300.000000   4.607500\n",
       "50%    138.500000  48.000000    620.000000   6.040000\n",
       "75%    192.500000  77.250000   1317.500000   6.615000\n",
       "max    312.000000  95.000000  19830.000000   8.490000"
      ]
     },
     "execution_count": 4,
     "metadata": {},
     "output_type": "execute_result"
    }
   ],
   "source": [
    "df.describe()"
   ]
  },
  {
   "cell_type": "code",
   "execution_count": 4,
   "metadata": {},
   "outputs": [
    {
     "data": {
      "text/html": [
       "<div>\n",
       "<style>\n",
       "    .dataframe thead tr:only-child th {\n",
       "        text-align: right;\n",
       "    }\n",
       "\n",
       "    .dataframe thead th {\n",
       "        text-align: left;\n",
       "    }\n",
       "\n",
       "    .dataframe tbody tr th {\n",
       "        vertical-align: top;\n",
       "    }\n",
       "</style>\n",
       "<table border=\"1\" class=\"dataframe\">\n",
       "  <thead>\n",
       "    <tr style=\"text-align: right;\">\n",
       "      <th></th>\n",
       "      <th>CM</th>\n",
       "      <th>FLR</th>\n",
       "      <th>PGNP</th>\n",
       "      <th>TFR</th>\n",
       "    </tr>\n",
       "  </thead>\n",
       "  <tbody>\n",
       "    <tr>\n",
       "      <th>0</th>\n",
       "      <td>128</td>\n",
       "      <td>37</td>\n",
       "      <td>1870</td>\n",
       "      <td>6.66</td>\n",
       "    </tr>\n",
       "    <tr>\n",
       "      <th>1</th>\n",
       "      <td>204</td>\n",
       "      <td>22</td>\n",
       "      <td>130</td>\n",
       "      <td>6.15</td>\n",
       "    </tr>\n",
       "    <tr>\n",
       "      <th>2</th>\n",
       "      <td>202</td>\n",
       "      <td>16</td>\n",
       "      <td>310</td>\n",
       "      <td>7.00</td>\n",
       "    </tr>\n",
       "    <tr>\n",
       "      <th>3</th>\n",
       "      <td>197</td>\n",
       "      <td>65</td>\n",
       "      <td>570</td>\n",
       "      <td>6.25</td>\n",
       "    </tr>\n",
       "    <tr>\n",
       "      <th>4</th>\n",
       "      <td>96</td>\n",
       "      <td>76</td>\n",
       "      <td>2050</td>\n",
       "      <td>3.81</td>\n",
       "    </tr>\n",
       "  </tbody>\n",
       "</table>\n",
       "</div>"
      ],
      "text/plain": [
       "    CM  FLR  PGNP   TFR\n",
       "0  128   37  1870  6.66\n",
       "1  204   22   130  6.15\n",
       "2  202   16   310  7.00\n",
       "3  197   65   570  6.25\n",
       "4   96   76  2050  3.81"
      ]
     },
     "execution_count": 4,
     "metadata": {},
     "output_type": "execute_result"
    }
   ],
   "source": [
    "df.head()"
   ]
  },
  {
   "cell_type": "markdown",
   "metadata": {},
   "source": [
    "### 双变量回归分析--儿童死亡率与人均GNP"
   ]
  },
  {
   "cell_type": "code",
   "execution_count": 8,
   "metadata": {},
   "outputs": [
    {
     "data": {
      "text/plain": [
       "<matplotlib.axes._subplots.AxesSubplot at 0x11fd62be0>"
      ]
     },
     "execution_count": 8,
     "metadata": {},
     "output_type": "execute_result"
    },
    {
     "data": {
      "image/png": "[encoded data removed]",
      "text/plain": [
       "<matplotlib.figure.Figure at 0x11fe60748>"
      ]
     },
     "metadata": {},
     "output_type": "display_data"
    }
   ],
   "source": [
    "df.plot(kind='scatter',x='PGNP',y='CM',c='red',s=100,alpha=0.5)"
   ]
  },
  {
   "cell_type": "code",
   "execution_count": 9,
   "metadata": {
    "collapsed": true
   },
   "outputs": [],
   "source": [
    "results = smf.ols('CM ~ 1 +PGNP', data=df).fit()"
   ]
  },
  {
   "cell_type": "code",
   "execution_count": 10,
   "metadata": {},
   "outputs": [
    {
     "name": "stdout",
     "output_type": "stream",
     "text": [
      "                            OLS Regression Results                            \n",
      "==============================================================================\n",
      "Dep. Variable:                     CM   R-squared:                       0.166\n",
      "Model:                            OLS   Adj. R-squared:                  0.153\n",
      "Method:                 Least Squares   F-statistic:                     12.36\n",
      "Date:                Tue, 26 Sep 2017   Prob (F-statistic):           0.000826\n",
      "Time:                        14:09:32   Log-Likelihood:                -361.64\n",
      "No. Observations:                  64   AIC:                             727.3\n",
      "Df Residuals:                      62   BIC:                             731.6\n",
      "Df Model:                           1                                         \n",
      "Covariance Type:            nonrobust                                         \n",
      "==============================================================================\n",
      "                 coef    std err          t      P>|t|      [0.025      0.975]\n",
      "------------------------------------------------------------------------------\n",
      "Intercept    157.4244      9.846     15.989      0.000     137.743     177.105\n",
      "PGNP          -0.0114      0.003     -3.516      0.001      -0.018      -0.005\n",
      "==============================================================================\n",
      "Omnibus:                        3.321   Durbin-Watson:                   1.931\n",
      "Prob(Omnibus):                  0.190   Jarque-Bera (JB):                2.545\n",
      "Skew:                           0.345   Prob(JB):                        0.280\n",
      "Kurtosis:                       2.309   Cond. No.                     3.43e+03\n",
      "==============================================================================\n",
      "\n",
      "Warnings:\n",
      "[1] Standard Errors assume that the covariance matrix of the errors is correctly specified.\n",
      "[2] The condition number is large, 3.43e+03. This might indicate that there are\n",
      "strong multicollinearity or other numerical problems.\n"
     ]
    }
   ],
   "source": [
    "print(results.summary())"
   ]
  },
  {
   "cell_type": "markdown",
   "metadata": {},
   "source": [
    "PGNP的系数为-0.0114，与预期一致，对CM有负影响，PGNP每提高1单位，CM将减少0.0114单位\n",
    "t=-3.516，p=0.001,均显著，表明PGNP对CM有影响，应该包含在模型当中。\n",
    "####  R2为0.166，说明儿童死亡率的变异中，有16.6可由PGNP来解释，这个R2并不高，说明模型拟合效果一般。\n",
    "#### 雅克-贝拉检验表明：JB统计量2.545，在正态性假定下，得到这样一个统计量的概率为28%。不拒绝残差项\n",
    "#### 是正态分布的假设。"
   ]
  },
  {
   "cell_type": "markdown",
   "metadata": {},
   "source": [
    "#### F-statistic:12.36，Prob (F-statistic):0.000826，拒绝人均GNP对儿童死亡率没有影响的假设"
   ]
  },
  {
   "cell_type": "markdown",
   "metadata": {},
   "source": [
    "### 三变量回归分析：儿童死亡率与人均GNP和妇女识字率"
   ]
  },
  {
   "cell_type": "code",
   "execution_count": 13,
   "metadata": {
    "collapsed": true
   },
   "outputs": [],
   "source": [
    "results2 = smf.ols('CM ~ 1 +PGNP+FLR', data=df).fit()"
   ]
  },
  {
   "cell_type": "code",
   "execution_count": 14,
   "metadata": {
    "scrolled": true
   },
   "outputs": [
    {
     "name": "stdout",
     "output_type": "stream",
     "text": [
      "                            OLS Regression Results                            \n",
      "==============================================================================\n",
      "Dep. Variable:                     CM   R-squared:                       0.708\n",
      "Model:                            OLS   Adj. R-squared:                  0.698\n",
      "Method:                 Least Squares   F-statistic:                     73.83\n",
      "Date:                Tue, 12 Sep 2017   Prob (F-statistic):           5.12e-17\n",
      "Time:                        18:25:59   Log-Likelihood:                -328.10\n",
      "No. Observations:                  64   AIC:                             662.2\n",
      "Df Residuals:                      61   BIC:                             668.7\n",
      "Df Model:                           2                                         \n",
      "Covariance Type:            nonrobust                                         \n",
      "==============================================================================\n",
      "                 coef    std err          t      P>|t|      [0.025      0.975]\n",
      "------------------------------------------------------------------------------\n",
      "Intercept    263.6416     11.593     22.741      0.000     240.460     286.824\n",
      "PGNP          -0.0056      0.002     -2.819      0.006      -0.010      -0.002\n",
      "FLR           -2.2316      0.210    -10.629      0.000      -2.651      -1.812\n",
      "==============================================================================\n",
      "Omnibus:                        0.732   Durbin-Watson:                   2.186\n",
      "Prob(Omnibus):                  0.693   Jarque-Bera (JB):                0.559\n",
      "Skew:                           0.228   Prob(JB):                        0.756\n",
      "Kurtosis:                       2.949   Cond. No.                     6.77e+03\n",
      "==============================================================================\n",
      "\n",
      "Warnings:\n",
      "[1] Standard Errors assume that the covariance matrix of the errors is correctly specified.\n",
      "[2] The condition number is large, 6.77e+03. This might indicate that there are\n",
      "strong multicollinearity or other numerical problems.\n"
     ]
    }
   ],
   "source": [
    "print(results2.summary())"
   ]
  },
  {
   "cell_type": "markdown",
   "metadata": {},
   "source": [
    "PGNP的偏回归系数为-0.0056，与预期一致，对CM有负影响，在FLR保持不变时，PGNP每提高1单位，CM将减少0.0056单位\n",
    "与-0.0114相比，PGNP对CM的影响减小了，说明我们的双变量回归模型有设定误差。\n",
    "t=-2.819，p=0.006,均显著，表明PGNP对CM有影响，应该包含在模型当中。\n",
    "如果虚拟假设正确，得到一个大于等于2.8187的t值得概率为0，006.\n",
    "\n",
    "FLR的偏回归系数为-2.2316，与预期一致，对CM有负影响，妇女识字率越高，儿童死亡率越低。在PGNP保持不变时，FLR每提高1单位，CM将减少2.2316单位\n",
    "\n",
    "t=-10.629 ，p=0.000,均显著，表明PGNP对CM有影响，应该包含在模型当中。\n",
    "\n",
    "调整R2为 0.698，说明儿童死亡率的变异中，有0.698可由模型来解释，这个R2很高，说明模型拟合效果很好。\n",
    "雅克-贝拉检验表明：JB统计量0.559，在正态性假定下，得到这样一个统计量的概率为75.6%。不拒绝残差项\n",
    "是正态分布的假设。\n",
    "注意：JB检验为大样本检验，64次观测可能不够多。\n",
    "skew：残差的偏度，正态分布为0\n",
    "kurtosis：残差的峰度，正态分布为3"
   ]
  },
  {
   "cell_type": "markdown",
   "metadata": {},
   "source": [
    "### 整体显著性检验\n",
    "<p>$H_0:\\beta_1=\\beta_2=0$<p/>\n",
    "<p>F-statistic:73.83,在零假设下，得到这样一个值得概率，<p/>\n",
    "<p>Prob (F-statistic):5.12e-17，认为妇女识字率和人均GNP对儿童死亡率有显著影响<p/>\n"
   ]
  },
  {
   "cell_type": "markdown",
   "metadata": {},
   "source": [
    "### 如果新增变量的t值在绝对值上大于1,调整$R^2$就会增加"
   ]
  },
  {
   "cell_type": "markdown",
   "metadata": {},
   "source": [
    "### 标准化三变量回归分析"
   ]
  },
  {
   "cell_type": "code",
   "execution_count": 19,
   "metadata": {
    "collapsed": true
   },
   "outputs": [],
   "source": [
    "#对数据标准化，均值为0，标准差为1\n",
    "df=df.apply(lambda x: (x-np.mean(x))/np.std(x))"
   ]
  },
  {
   "cell_type": "code",
   "execution_count": 20,
   "metadata": {},
   "outputs": [
    {
     "data": {
      "text/html": [
       "<div>\n",
       "<style>\n",
       "    .dataframe thead tr:only-child th {\n",
       "        text-align: right;\n",
       "    }\n",
       "\n",
       "    .dataframe thead th {\n",
       "        text-align: left;\n",
       "    }\n",
       "\n",
       "    .dataframe tbody tr th {\n",
       "        vertical-align: top;\n",
       "    }\n",
       "</style>\n",
       "<table border=\"1\" class=\"dataframe\">\n",
       "  <thead>\n",
       "    <tr style=\"text-align: right;\">\n",
       "      <th></th>\n",
       "      <th>CM</th>\n",
       "      <th>FLR</th>\n",
       "      <th>PGNP</th>\n",
       "      <th>TFR</th>\n",
       "    </tr>\n",
       "  </thead>\n",
       "  <tbody>\n",
       "    <tr>\n",
       "      <th>count</th>\n",
       "      <td>6.400000e+01</td>\n",
       "      <td>6.400000e+01</td>\n",
       "      <td>6.400000e+01</td>\n",
       "      <td>6.400000e+01</td>\n",
       "    </tr>\n",
       "    <tr>\n",
       "      <th>mean</th>\n",
       "      <td>-6.667843e-18</td>\n",
       "      <td>1.214306e-17</td>\n",
       "      <td>-8.673617e-18</td>\n",
       "      <td>1.103284e-15</td>\n",
       "    </tr>\n",
       "    <tr>\n",
       "      <th>std</th>\n",
       "      <td>1.007905e+00</td>\n",
       "      <td>1.007905e+00</td>\n",
       "      <td>1.007905e+00</td>\n",
       "      <td>1.007905e+00</td>\n",
       "    </tr>\n",
       "    <tr>\n",
       "      <th>min</th>\n",
       "      <td>-1.717913e+00</td>\n",
       "      <td>-1.634929e+00</td>\n",
       "      <td>-4.737794e-01</td>\n",
       "      <td>-2.578010e+00</td>\n",
       "    </tr>\n",
       "    <tr>\n",
       "      <th>25%</th>\n",
       "      <td>-7.893115e-01</td>\n",
       "      <td>-8.598516e-01</td>\n",
       "      <td>-4.072192e-01</td>\n",
       "      <td>-6.293175e-01</td>\n",
       "    </tr>\n",
       "    <tr>\n",
       "      <th>50%</th>\n",
       "      <td>-3.979722e-02</td>\n",
       "      <td>-1.235280e-01</td>\n",
       "      <td>-2.888899e-01</td>\n",
       "      <td>3.274956e-01</td>\n",
       "    </tr>\n",
       "    <tr>\n",
       "      <th>75%</th>\n",
       "      <td>6.765527e-01</td>\n",
       "      <td>1.010023e+00</td>\n",
       "      <td>-3.096900e-02</td>\n",
       "      <td>7.115566e-01</td>\n",
       "    </tr>\n",
       "    <tr>\n",
       "      <th>max</th>\n",
       "      <td>2.261809e+00</td>\n",
       "      <td>1.697904e+00</td>\n",
       "      <td>6.814566e+00</td>\n",
       "      <td>1.963930e+00</td>\n",
       "    </tr>\n",
       "  </tbody>\n",
       "</table>\n",
       "</div>"
      ],
      "text/plain": [
       "                 CM           FLR          PGNP           TFR\n",
       "count  6.400000e+01  6.400000e+01  6.400000e+01  6.400000e+01\n",
       "mean  -6.667843e-18  1.214306e-17 -8.673617e-18  1.103284e-15\n",
       "std    1.007905e+00  1.007905e+00  1.007905e+00  1.007905e+00\n",
       "min   -1.717913e+00 -1.634929e+00 -4.737794e-01 -2.578010e+00\n",
       "25%   -7.893115e-01 -8.598516e-01 -4.072192e-01 -6.293175e-01\n",
       "50%   -3.979722e-02 -1.235280e-01 -2.888899e-01  3.274956e-01\n",
       "75%    6.765527e-01  1.010023e+00 -3.096900e-02  7.115566e-01\n",
       "max    2.261809e+00  1.697904e+00  6.814566e+00  1.963930e+00"
      ]
     },
     "execution_count": 20,
     "metadata": {},
     "output_type": "execute_result"
    }
   ],
   "source": [
    "df.describe()"
   ]
  },
  {
   "cell_type": "code",
   "execution_count": 21,
   "metadata": {
    "collapsed": true
   },
   "outputs": [],
   "source": [
    "results3 = smf.ols('CM ~ PGNP+FLR', data=df).fit()#注意没有截距项"
   ]
  },
  {
   "cell_type": "code",
   "execution_count": 23,
   "metadata": {},
   "outputs": [
    {
     "name": "stdout",
     "output_type": "stream",
     "text": [
      "                            OLS Regression Results                            \n",
      "==============================================================================\n",
      "Dep. Variable:                     CM   R-squared:                       0.708\n",
      "Model:                            OLS   Adj. R-squared:                  0.698\n",
      "Method:                 Least Squares   F-statistic:                     73.83\n",
      "Date:                Tue, 12 Sep 2017   Prob (F-statistic):           5.12e-17\n",
      "Time:                        18:39:40   Log-Likelihood:                -51.457\n",
      "No. Observations:                  64   AIC:                             108.9\n",
      "Df Residuals:                      61   BIC:                             115.4\n",
      "Df Model:                           2                                         \n",
      "Covariance Type:            nonrobust                                         \n",
      "==============================================================================\n",
      "                 coef    std err          t      P>|t|      [0.025      0.975]\n",
      "------------------------------------------------------------------------------\n",
      "Intercept           0      0.069          0      1.000      -0.138       0.138\n",
      "PGNP          -0.2026      0.072     -2.819      0.006      -0.346      -0.059\n",
      "FLR           -0.7639      0.072    -10.629      0.000      -0.908      -0.620\n",
      "==============================================================================\n",
      "Omnibus:                        0.732   Durbin-Watson:                   2.186\n",
      "Prob(Omnibus):                  0.693   Jarque-Bera (JB):                0.559\n",
      "Skew:                           0.228   Prob(JB):                        0.756\n",
      "Kurtosis:                       2.949   Cond. No.                         1.32\n",
      "==============================================================================\n",
      "\n",
      "Warnings:\n",
      "[1] Standard Errors assume that the covariance matrix of the errors is correctly specified.\n"
     ]
    }
   ],
   "source": [
    "print(results3.summary())"
   ]
  },
  {
   "cell_type": "markdown",
   "metadata": {},
   "source": [
    "保持FLR不变，PGNP每提高一个标准差，导致CM平均下降0.2026个标准差。<br/>\n",
    "保持PGNP不变，FLR提高一个标准差，导致CM平均下降0.7639个标准差<br/>\n",
    "相对而言，妇女识字率比人均GNP对儿童死亡率的影响更大。<br/>\n",
    "标准化回归，可以看出哪个变量的影响更大"
   ]
  },
  {
   "cell_type": "code",
   "execution_count": 24,
   "metadata": {},
   "outputs": [
    {
     "data": {
      "text/plain": [
       "-2.2371999999999996"
      ]
     },
     "execution_count": 24,
     "metadata": {},
     "output_type": "execute_result"
    }
   ],
   "source": [
    "#PGNP和FLR同时提高1单位,每1000名儿童中不足5岁便死亡的儿童数约降低2.24人\n",
    "-0.0056*1-2.2316*1"
   ]
  },
  {
   "cell_type": "code",
   "execution_count": null,
   "metadata": {
    "collapsed": true
   },
   "outputs": [],
   "source": []
  }
 ],
 "metadata": {
  "kernelspec": {
   "display_name": "Python 3",
   "language": "python",
   "name": "python3"
  },
  "language_info": {
   "codemirror_mode": {
    "name": "ipython",
    "version": 3
   },
   "file_extension": ".py",
   "mimetype": "text/x-python",
   "name": "python",
   "nbconvert_exporter": "python",
   "pygments_lexer": "ipython3",
   "version": "3.6.1"
  }
 },
 "nbformat": 4,
 "nbformat_minor": 2
}
